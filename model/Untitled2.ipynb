{
 "metadata": {
  "name": "",
  "signature": "sha256:c135a0697ff07980f2e45937cae2f994dd679db85a3e1cb63679dfecba4e9a41"
 },
 "nbformat": 3,
 "nbformat_minor": 0,
 "worksheets": [
  {
   "cells": [
    {
     "cell_type": "code",
     "collapsed": false,
     "input": [
      "# import libraries\n",
      "%matplotlib inline\n",
      "import matplotlib.pyplot as plt\n",
      "import pandas as pd\n",
      "import numpy as np\n",
      "\n",
      "import pandas.io.data as web\n",
      "import datetime\n",
      "\n",
      "from p4 import *"
     ],
     "language": "python",
     "metadata": {},
     "outputs": [],
     "prompt_number": 46
    },
    {
     "cell_type": "code",
     "collapsed": false,
     "input": [
      "tix = get_import_io_s_and_p_tickers()\n",
      "df = get_collection_as_pandas_df(tix, 'stocks_test', update=False)\n",
      "w = Window(df, start_date=datetime.datetime(2014,7,1,0,0), end_date=datetime.datetime(2014,10,1,0,0), return_period_days=1)\n",
      "portfolio = w.get_stat_arb_portfolio(return_period_days=7)"
     ],
     "language": "python",
     "metadata": {},
     "outputs": [
      {
       "output_type": "stream",
       "stream": "stdout",
       "text": [
        "Could not calcualte recent performance - u'AAPL'\n",
        "Could not calcualte recent performance - u'AMZN'"
       ]
      },
      {
       "output_type": "stream",
       "stream": "stdout",
       "text": [
        "\n",
        "Could not calcualte recent performance - u'BBY'"
       ]
      },
      {
       "output_type": "stream",
       "stream": "stdout",
       "text": [
        "\n",
        "Could not calcualte recent performance - u'COH'"
       ]
      },
      {
       "output_type": "stream",
       "stream": "stdout",
       "text": [
        "\n",
        "Could not calcualte recent performance - u'COV'\n",
        "Could not calcualte recent performance - u'CRM'\n",
        "Could not calcualte recent performance - u'DHI'"
       ]
      },
      {
       "output_type": "stream",
       "stream": "stdout",
       "text": [
        "\n",
        "Could not calcualte recent performance - u'EA'"
       ]
      },
      {
       "output_type": "stream",
       "stream": "stdout",
       "text": [
        "\n",
        "Could not calcualte recent performance - u'ETFC'"
       ]
      },
      {
       "output_type": "stream",
       "stream": "stdout",
       "text": [
        "\n",
        "Could not calcualte recent performance - u'GOOG'"
       ]
      },
      {
       "output_type": "stream",
       "stream": "stdout",
       "text": [
        "\n",
        "Could not calcualte recent performance - u'GT'\n",
        "Could not calcualte recent performance - u'IRM'"
       ]
      },
      {
       "output_type": "stream",
       "stream": "stdout",
       "text": [
        "\n",
        "Could not calcualte recent performance - u'JWN'\n",
        "Could not calcualte recent performance - u'KMX'"
       ]
      },
      {
       "output_type": "stream",
       "stream": "stdout",
       "text": [
        "\n",
        "Could not calcualte recent performance - u'LO'"
       ]
      },
      {
       "output_type": "stream",
       "stream": "stdout",
       "text": [
        "\n",
        "Could not calcualte recent performance - u'LVLT'\n",
        "Could not calcualte recent performance - u'MU'"
       ]
      },
      {
       "output_type": "stream",
       "stream": "stdout",
       "text": [
        "\n",
        "Could not calcualte recent performance - u'NAVI'\n",
        "Could not calcualte recent performance - u'NTAP'"
       ]
      },
      {
       "output_type": "stream",
       "stream": "stdout",
       "text": [
        "\n",
        "Could not calcualte recent performance - u'UNP'"
       ]
      },
      {
       "output_type": "stream",
       "stream": "stdout",
       "text": [
        "\n",
        "Could not calcualte recent performance - u'VRTX'"
       ]
      },
      {
       "output_type": "stream",
       "stream": "stdout",
       "text": [
        "\n",
        "Could not calcualte recent performance - u'WMB'"
       ]
      },
      {
       "output_type": "stream",
       "stream": "stdout",
       "text": [
        "\n",
        "portfolio beta: -0.00418635801653"
       ]
      },
      {
       "output_type": "stream",
       "stream": "stdout",
       "text": [
        "\n"
       ]
      }
     ],
     "prompt_number": 47
    },
    {
     "cell_type": "code",
     "collapsed": false,
     "input": [
      "period_returns = (w.daily_index / w.daily_index.shift(7)).tail(1) - 1\n",
      "\n",
      "rows = {}\n",
      "for i in ('long', 'short'):\n",
      "    rows[i] = []\n",
      "    for k, v in portfolio['portfolio_weights'][i].iteritems():\n",
      "\n",
      "        temp = {}\n",
      "        temp['ticker'] = k\n",
      "        temp['weight'] = v\n",
      "        temp['score'] = portfolio['performance_chart'][portfolio['performance_chart']['tickers'] == k]['over_performance'].values[0]\n",
      "        temp['returns'] = period_returns[k].values[0]\n",
      "        rows[i].append(temp)\n",
      "rows\n",
      "  "
     ],
     "language": "python",
     "metadata": {},
     "outputs": [
      {
       "metadata": {},
       "output_type": "pyout",
       "prompt_number": 48,
       "text": [
        "{'long': [{'returns': -0.086133333333333284,\n",
        "   'score': -2.6583483699821797,\n",
        "   'ticker': u'DO',\n",
        "   'weight': 0.027948891264569054},\n",
        "  {'returns': -0.065267616480554458,\n",
        "   'score': -2.585670926776872,\n",
        "   'ticker': u'WHR',\n",
        "   'weight': 0.027948891264569054},\n",
        "  {'returns': -0.092416283650689324,\n",
        "   'score': -3.6719274695000288,\n",
        "   'ticker': u'TEL',\n",
        "   'weight': 0.027948891264569054},\n",
        "  {'returns': -0.095336481700118325,\n",
        "   'score': -2.6493302403132057,\n",
        "   'ticker': u'MAT',\n",
        "   'weight': 0.027948891264569054},\n",
        "  {'returns': -0.11171171171171157,\n",
        "   'score': -3.6072308972114104,\n",
        "   'ticker': u'F',\n",
        "   'weight': 0.027948891264569054},\n",
        "  {'returns': -0.083127317676143342,\n",
        "   'score': -2.44252937957623,\n",
        "   'ticker': u'GCI',\n",
        "   'weight': 0.027948891264569054},\n",
        "  {'returns': -0.050522648083623278,\n",
        "   'score': -2.8556311122848714,\n",
        "   'ticker': u'NWSA',\n",
        "   'weight': 0.027948891264569054},\n",
        "  {'returns': -0.033852606351108427,\n",
        "   'score': -2.4284495954401861,\n",
        "   'ticker': u'PX',\n",
        "   'weight': 0.027948891264569054},\n",
        "  {'returns': -0.056032632030914575,\n",
        "   'score': -2.4329285599187482,\n",
        "   'ticker': u'PRU',\n",
        "   'weight': 0.027948891264569054},\n",
        "  {'returns': -0.089792387543252583,\n",
        "   'score': -2.766242779629748,\n",
        "   'ticker': u'BWA',\n",
        "   'weight': 0.027948891264569054},\n",
        "  {'returns': -0.049853372434017551,\n",
        "   'score': -2.6343813959407378,\n",
        "   'ticker': u'HCBK',\n",
        "   'weight': 0.027948891264569054},\n",
        "  {'returns': -0.09129669107424232,\n",
        "   'score': -2.4444989374825736,\n",
        "   'ticker': u'HAR',\n",
        "   'weight': 0.027948891264569054},\n",
        "  {'returns': -0.053763440860215117,\n",
        "   'score': -2.5491189602403184,\n",
        "   'ticker': u'JCI',\n",
        "   'weight': 0.027948891264569054},\n",
        "  {'returns': -0.064482029598308621,\n",
        "   'score': -2.7172344282018237,\n",
        "   'ticker': u'MDT',\n",
        "   'weight': 0.027948891264569054},\n",
        "  {'returns': -0.065704122201297399,\n",
        "   'score': -2.6411625188670658,\n",
        "   'ticker': u'AVY',\n",
        "   'weight': 0.027948891264569054}],\n",
        " 'short': [{'returns': 0.080656397553990233,\n",
        "   'score': 2.4252771516391354,\n",
        "   'ticker': u'CF',\n",
        "   'weight': 0.038717775402097608},\n",
        "  {'returns': 0.030684104627766606,\n",
        "   'score': 1.011695628439006,\n",
        "   'ticker': u'NI',\n",
        "   'weight': 0.038717775402097608},\n",
        "  {'returns': 0.02886405959031646,\n",
        "   'score': 1.5079150399845811,\n",
        "   'ticker': u'PAYX',\n",
        "   'weight': 0.038717775402097608},\n",
        "  {'returns': 0.033612190020914534,\n",
        "   'score': 1.0201661174331322,\n",
        "   'ticker': u'ADBE',\n",
        "   'weight': 0.038717775402097608},\n",
        "  {'returns': 0.0903312553477571,\n",
        "   'score': 3.2948657314330045,\n",
        "   'ticker': u'NKE',\n",
        "   'weight': 0.038717775402097608},\n",
        "  {'returns': 0.059330598656440747,\n",
        "   'score': 1.4549953807225735,\n",
        "   'ticker': u'AGN',\n",
        "   'weight': 0.038717775402097608},\n",
        "  {'returns': 0.017390216439384432,\n",
        "   'score': 1.0029701187816338,\n",
        "   'ticker': u'ACN',\n",
        "   'weight': 0.038717775402097608},\n",
        "  {'returns': 0.041737649063032123,\n",
        "   'score': 1.3100943971454373,\n",
        "   'ticker': u'CSC',\n",
        "   'weight': 0.038717775402097608},\n",
        "  {'returns': 0.080725190839694649,\n",
        "   'score': 2.3838057283629852,\n",
        "   'ticker': u'EBAY',\n",
        "   'weight': 0.038717775402097608},\n",
        "  {'returns': 0.060395274373413077,\n",
        "   'score': 2.1040630638846762,\n",
        "   'ticker': u'CLX',\n",
        "   'weight': 0.038717775402097608},\n",
        "  {'returns': 0.051072066706372876,\n",
        "   'score': 3.0182942612829704,\n",
        "   'ticker': u'CTAS',\n",
        "   'weight': 0.038717775402097608},\n",
        "  {'returns': 0.019188191881918781,\n",
        "   'score': 0.99033875645592939,\n",
        "   'ticker': u'PDCO',\n",
        "   'weight': 0.038717775402097608},\n",
        "  {'returns': 0.031010180109631857,\n",
        "   'score': 1.5288911800568497,\n",
        "   'ticker': u'BBBY',\n",
        "   'weight': 0.038717775402097608},\n",
        "  {'returns': 0.32861189801699697,\n",
        "   'score': 3.0391735912539364,\n",
        "   'ticker': u'SIAL',\n",
        "   'weight': 0.038717775402097608},\n",
        "  {'returns': 0.028886801315171962,\n",
        "   'score': 1.1825989726915345,\n",
        "   'ticker': u'EXPE',\n",
        "   'weight': 0.038717775402097608}]}"
       ]
      }
     ],
     "prompt_number": 48
    },
    {
     "cell_type": "code",
     "collapsed": false,
     "input": [
      "portfolio.keys()"
     ],
     "language": "python",
     "metadata": {},
     "outputs": [
      {
       "metadata": {},
       "output_type": "pyout",
       "prompt_number": 49,
       "text": [
        "['portfolio_weights', 'beta_list', 'performance_chart']"
       ]
      }
     ],
     "prompt_number": 49
    },
    {
     "cell_type": "code",
     "collapsed": false,
     "input": [],
     "language": "python",
     "metadata": {},
     "outputs": []
    }
   ],
   "metadata": {}
  }
 ]
}